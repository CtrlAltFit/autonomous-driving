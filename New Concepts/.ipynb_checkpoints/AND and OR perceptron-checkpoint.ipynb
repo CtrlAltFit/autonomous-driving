{
 "cells": [
  {
   "cell_type": "code",
   "execution_count": 1,
   "id": "e6f7fa17",
   "metadata": {},
   "outputs": [],
   "source": [
    "import pandas as pd"
   ]
  },
  {
   "cell_type": "code",
   "execution_count": null,
   "id": "210834e4",
   "metadata": {},
   "outputs": [],
   "source": [
    "#we need to set weight1,weight2 ,and bias\n",
    "weight1 = 0.0\n",
    "weight2 = 0.0\n",
    "bias = 0.0\n",
    "\n"
   ]
  }
 ],
 "metadata": {
  "kernelspec": {
   "display_name": "Python 3 (ipykernel)",
   "language": "python",
   "name": "python3"
  },
  "language_info": {
   "codemirror_mode": {
    "name": "ipython",
    "version": 3
   },
   "file_extension": ".py",
   "mimetype": "text/x-python",
   "name": "python",
   "nbconvert_exporter": "python",
   "pygments_lexer": "ipython3",
   "version": "3.9.12"
  }
 },
 "nbformat": 4,
 "nbformat_minor": 5
}
