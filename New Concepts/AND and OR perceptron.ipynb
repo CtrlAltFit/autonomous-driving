{
 "cells": [
  {
   "cell_type": "code",
   "execution_count": 1,
   "id": "0aec6101",
   "metadata": {},
   "outputs": [],
   "source": [
    "import pandas as pd"
   ]
  },
  {
   "cell_type": "code",
   "execution_count": 2,
   "id": "da13ec02",
   "metadata": {},
   "outputs": [
    {
     "ename": "NameError",
     "evalue": "name 'correct_output' is not defined",
     "output_type": "error",
     "traceback": [
      "\u001b[1;31m---------------------------------------------------------------------------\u001b[0m",
      "\u001b[1;31mNameError\u001b[0m                                 Traceback (most recent call last)",
      "Input \u001b[1;32mIn [2]\u001b[0m, in \u001b[0;36m<cell line: 12>\u001b[1;34m()\u001b[0m\n\u001b[0;32m      9\u001b[0m outputs \u001b[38;5;241m=\u001b[39m []\n\u001b[0;32m     11\u001b[0m \u001b[38;5;66;03m#Generate and check output\u001b[39;00m\n\u001b[1;32m---> 12\u001b[0m \u001b[38;5;28;01mfor\u001b[39;00m test_input, correct_output \u001b[38;5;129;01min\u001b[39;00m \u001b[38;5;28mzip\u001b[39m(test_inputs, \u001b[43mcorrect_output\u001b[49m):\n\u001b[0;32m     13\u001b[0m     linear_combination \u001b[38;5;241m=\u001b[39m Weight1 \u001b[38;5;241m*\u001b[39m test_input[\u001b[38;5;241m0\u001b[39m] \u001b[38;5;241m+\u001b[39m weight2 \u001b[38;5;241m*\u001b[39m test_input[\u001b[38;5;241m1\u001b[39m] \u001b[38;5;241m+\u001b[39m bias\n\u001b[0;32m     14\u001b[0m     output \u001b[38;5;241m=\u001b[39m \u001b[38;5;28mint\u001b[39m(linear_combination \u001b[38;5;241m>\u001b[39m\u001b[38;5;241m=\u001b[39m \u001b[38;5;241m0\u001b[39m)\n",
      "\u001b[1;31mNameError\u001b[0m: name 'correct_output' is not defined"
     ]
    }
   ],
   "source": [
    "#we need to set weight1,weight2 ,and bias\n",
    "weight1 = 0.0\n",
    "weight2 = 0.0\n",
    "bias = 0.0\n",
    "\n",
    "# Inputs and outputs\n",
    "test_inputs = [(0,0), (0,1),(1,0),(1,1)]\n",
    "correct_outputs = [False, False ,False, True]\n",
    "outputs = []\n",
    "\n",
    "#Generate and check output\n",
    "for test_input, correct_output in zip(test_inputs, correct_output):\n",
    "    linear_combination = Weight1 * test_input[0] + weight2 * test_input[1] + bias\n",
    "    output = int(linear_combination >= 0)\n",
    "    is_correct_string = 'Yes' if output == correct_output else 'No'\n",
    "    outputs.append([test_input[0],test_input[1],linear_combination,output,is_correct_string])\n",
    "    \n",
    "# Print output\n",
    "num_wrong = len([output[4] for output in outputs if output[4] == 'No'])\n",
    "output_frame = pd.DataFrame(outputs, columns=['Input 1',' Input 2',' Linear Combination',' Activation Output',' Is Correct'])\n",
    "if not num_wrong:\n",
    "    print('Nice! You got it all correct.\\n')\n",
    "else:\n",
    "    print('You got {} wrong. Keep trying!\\n')\n",
    "print(output_frame.to_string(index=False))"
   ]
  },
  {
   "cell_type": "code",
   "execution_count": null,
   "id": "e5d8e575",
   "metadata": {},
   "outputs": [],
   "source": []
  }
 ],
 "metadata": {
  "kernelspec": {
   "display_name": "Python 3 (ipykernel)",
   "language": "python",
   "name": "python3"
  },
  "language_info": {
   "codemirror_mode": {
    "name": "ipython",
    "version": 3
   },
   "file_extension": ".py",
   "mimetype": "text/x-python",
   "name": "python",
   "nbconvert_exporter": "python",
   "pygments_lexer": "ipython3",
   "version": "3.9.12"
  }
 },
 "nbformat": 4,
 "nbformat_minor": 5
}
